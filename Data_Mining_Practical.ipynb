{
  "cells": [
    {
      "cell_type": "markdown",
      "metadata": {
        "id": "jUT15u-HLOpi"
      },
      "source": [
        "## Read and Describe the Dataset"
      ]
    },
    {
      "cell_type": "code",
      "execution_count": 26,
      "metadata": {
        "id": "fPglG8_bLbeU"
      },
      "outputs": [],
      "source": [
        "import numpy as np # linear algebra\n",
        "import pandas as pd # data processing, CSV file I/O (e.g. pd.read_csv)\n",
        "\n",
        "dataset_path = './diabetes.csv'\n",
        "dataset = pd.read_csv(dataset_path)"
      ]
    },
    {
      "cell_type": "code",
      "execution_count": 27,
      "metadata": {
        "colab": {
          "base_uri": "https://localhost:8080/",
          "height": 206
        },
        "id": "79XIRu3VCNcR",
        "outputId": "0c8468c3-26ce-43b1-8626-9ad414357512"
      },
      "outputs": [
        {
          "data": {
            "text/html": [
              "<div>\n",
              "<style scoped>\n",
              "    .dataframe tbody tr th:only-of-type {\n",
              "        vertical-align: middle;\n",
              "    }\n",
              "\n",
              "    .dataframe tbody tr th {\n",
              "        vertical-align: top;\n",
              "    }\n",
              "\n",
              "    .dataframe thead th {\n",
              "        text-align: right;\n",
              "    }\n",
              "</style>\n",
              "<table border=\"1\" class=\"dataframe\">\n",
              "  <thead>\n",
              "    <tr style=\"text-align: right;\">\n",
              "      <th></th>\n",
              "      <th>Glucose</th>\n",
              "      <th>BloodPressure</th>\n",
              "      <th>SkinThickness</th>\n",
              "      <th>Insulin</th>\n",
              "      <th>BMI</th>\n",
              "      <th>Age</th>\n",
              "      <th>Outcome</th>\n",
              "    </tr>\n",
              "  </thead>\n",
              "  <tbody>\n",
              "    <tr>\n",
              "      <th>0</th>\n",
              "      <td>148</td>\n",
              "      <td>72</td>\n",
              "      <td>35.0</td>\n",
              "      <td>0</td>\n",
              "      <td>33.6</td>\n",
              "      <td>50</td>\n",
              "      <td>1</td>\n",
              "    </tr>\n",
              "    <tr>\n",
              "      <th>1</th>\n",
              "      <td>85</td>\n",
              "      <td>66</td>\n",
              "      <td>29.0</td>\n",
              "      <td>0</td>\n",
              "      <td>26.6</td>\n",
              "      <td>31</td>\n",
              "      <td>0</td>\n",
              "    </tr>\n",
              "    <tr>\n",
              "      <th>2</th>\n",
              "      <td>183</td>\n",
              "      <td>64</td>\n",
              "      <td>0.0</td>\n",
              "      <td>0</td>\n",
              "      <td>23.3</td>\n",
              "      <td>32</td>\n",
              "      <td>1</td>\n",
              "    </tr>\n",
              "    <tr>\n",
              "      <th>3</th>\n",
              "      <td>89</td>\n",
              "      <td>66</td>\n",
              "      <td>23.0</td>\n",
              "      <td>94</td>\n",
              "      <td>28.1</td>\n",
              "      <td>21</td>\n",
              "      <td>0</td>\n",
              "    </tr>\n",
              "    <tr>\n",
              "      <th>4</th>\n",
              "      <td>137</td>\n",
              "      <td>40</td>\n",
              "      <td>35.0</td>\n",
              "      <td>168</td>\n",
              "      <td>43.1</td>\n",
              "      <td>33</td>\n",
              "      <td>1</td>\n",
              "    </tr>\n",
              "  </tbody>\n",
              "</table>\n",
              "</div>"
            ],
            "text/plain": [
              "   Glucose  BloodPressure  SkinThickness  Insulin   BMI  Age  Outcome\n",
              "0      148             72           35.0        0  33.6   50        1\n",
              "1       85             66           29.0        0  26.6   31        0\n",
              "2      183             64            0.0        0  23.3   32        1\n",
              "3       89             66           23.0       94  28.1   21        0\n",
              "4      137             40           35.0      168  43.1   33        1"
            ]
          },
          "execution_count": 27,
          "metadata": {},
          "output_type": "execute_result"
        }
      ],
      "source": [
        "dataset.head()"
      ]
    },
    {
      "cell_type": "code",
      "execution_count": 28,
      "metadata": {
        "colab": {
          "base_uri": "https://localhost:8080/"
        },
        "id": "i20O5F01CQnM",
        "outputId": "c86c42dd-9869-4076-d700-0ff2d55a7dac"
      },
      "outputs": [
        {
          "data": {
            "text/plain": [
              "(768, 7)"
            ]
          },
          "execution_count": 28,
          "metadata": {},
          "output_type": "execute_result"
        }
      ],
      "source": [
        "dataset.shape"
      ]
    },
    {
      "cell_type": "code",
      "execution_count": 29,
      "metadata": {
        "colab": {
          "base_uri": "https://localhost:8080/",
          "height": 300
        },
        "id": "yojvm0Rd3AQ1",
        "outputId": "69d57556-c729-4fd0-c4ac-aef7cb33cd39"
      },
      "outputs": [
        {
          "data": {
            "text/html": [
              "<div>\n",
              "<style scoped>\n",
              "    .dataframe tbody tr th:only-of-type {\n",
              "        vertical-align: middle;\n",
              "    }\n",
              "\n",
              "    .dataframe tbody tr th {\n",
              "        vertical-align: top;\n",
              "    }\n",
              "\n",
              "    .dataframe thead th {\n",
              "        text-align: right;\n",
              "    }\n",
              "</style>\n",
              "<table border=\"1\" class=\"dataframe\">\n",
              "  <thead>\n",
              "    <tr style=\"text-align: right;\">\n",
              "      <th></th>\n",
              "      <th>Glucose</th>\n",
              "      <th>BloodPressure</th>\n",
              "      <th>SkinThickness</th>\n",
              "      <th>Insulin</th>\n",
              "      <th>BMI</th>\n",
              "      <th>Age</th>\n",
              "      <th>Outcome</th>\n",
              "    </tr>\n",
              "  </thead>\n",
              "  <tbody>\n",
              "    <tr>\n",
              "      <th>count</th>\n",
              "      <td>768.000000</td>\n",
              "      <td>768.000000</td>\n",
              "      <td>763.000000</td>\n",
              "      <td>768.000000</td>\n",
              "      <td>768.000000</td>\n",
              "      <td>768.000000</td>\n",
              "      <td>768.000000</td>\n",
              "    </tr>\n",
              "    <tr>\n",
              "      <th>mean</th>\n",
              "      <td>120.894531</td>\n",
              "      <td>69.105469</td>\n",
              "      <td>20.520315</td>\n",
              "      <td>79.799479</td>\n",
              "      <td>31.992578</td>\n",
              "      <td>33.240885</td>\n",
              "      <td>0.348958</td>\n",
              "    </tr>\n",
              "    <tr>\n",
              "      <th>std</th>\n",
              "      <td>31.972618</td>\n",
              "      <td>19.355807</td>\n",
              "      <td>15.966929</td>\n",
              "      <td>115.244002</td>\n",
              "      <td>7.884160</td>\n",
              "      <td>11.760232</td>\n",
              "      <td>0.476951</td>\n",
              "    </tr>\n",
              "    <tr>\n",
              "      <th>min</th>\n",
              "      <td>0.000000</td>\n",
              "      <td>0.000000</td>\n",
              "      <td>0.000000</td>\n",
              "      <td>0.000000</td>\n",
              "      <td>0.000000</td>\n",
              "      <td>21.000000</td>\n",
              "      <td>0.000000</td>\n",
              "    </tr>\n",
              "    <tr>\n",
              "      <th>25%</th>\n",
              "      <td>99.000000</td>\n",
              "      <td>62.000000</td>\n",
              "      <td>0.000000</td>\n",
              "      <td>0.000000</td>\n",
              "      <td>27.300000</td>\n",
              "      <td>24.000000</td>\n",
              "      <td>0.000000</td>\n",
              "    </tr>\n",
              "    <tr>\n",
              "      <th>50%</th>\n",
              "      <td>117.000000</td>\n",
              "      <td>72.000000</td>\n",
              "      <td>23.000000</td>\n",
              "      <td>30.500000</td>\n",
              "      <td>32.000000</td>\n",
              "      <td>29.000000</td>\n",
              "      <td>0.000000</td>\n",
              "    </tr>\n",
              "    <tr>\n",
              "      <th>75%</th>\n",
              "      <td>140.250000</td>\n",
              "      <td>80.000000</td>\n",
              "      <td>32.000000</td>\n",
              "      <td>127.250000</td>\n",
              "      <td>36.600000</td>\n",
              "      <td>41.000000</td>\n",
              "      <td>1.000000</td>\n",
              "    </tr>\n",
              "    <tr>\n",
              "      <th>max</th>\n",
              "      <td>199.000000</td>\n",
              "      <td>122.000000</td>\n",
              "      <td>99.000000</td>\n",
              "      <td>846.000000</td>\n",
              "      <td>67.100000</td>\n",
              "      <td>81.000000</td>\n",
              "      <td>1.000000</td>\n",
              "    </tr>\n",
              "  </tbody>\n",
              "</table>\n",
              "</div>"
            ],
            "text/plain": [
              "          Glucose  BloodPressure  SkinThickness     Insulin         BMI  \\\n",
              "count  768.000000     768.000000     763.000000  768.000000  768.000000   \n",
              "mean   120.894531      69.105469      20.520315   79.799479   31.992578   \n",
              "std     31.972618      19.355807      15.966929  115.244002    7.884160   \n",
              "min      0.000000       0.000000       0.000000    0.000000    0.000000   \n",
              "25%     99.000000      62.000000       0.000000    0.000000   27.300000   \n",
              "50%    117.000000      72.000000      23.000000   30.500000   32.000000   \n",
              "75%    140.250000      80.000000      32.000000  127.250000   36.600000   \n",
              "max    199.000000     122.000000      99.000000  846.000000   67.100000   \n",
              "\n",
              "              Age     Outcome  \n",
              "count  768.000000  768.000000  \n",
              "mean    33.240885    0.348958  \n",
              "std     11.760232    0.476951  \n",
              "min     21.000000    0.000000  \n",
              "25%     24.000000    0.000000  \n",
              "50%     29.000000    0.000000  \n",
              "75%     41.000000    1.000000  \n",
              "max     81.000000    1.000000  "
            ]
          },
          "execution_count": 29,
          "metadata": {},
          "output_type": "execute_result"
        }
      ],
      "source": [
        "dataset.describe()"
      ]
    },
    {
      "cell_type": "markdown",
      "metadata": {
        "id": "7heOkqXcMKwO"
      },
      "source": [
        "## Data Preprocessing "
      ]
    },
    {
      "cell_type": "code",
      "execution_count": 30,
      "metadata": {
        "colab": {
          "base_uri": "https://localhost:8080/"
        },
        "id": "GI7DXeKhLz27",
        "outputId": "912a834e-4c50-428e-e155-f1288efd1ede"
      },
      "outputs": [
        {
          "data": {
            "text/plain": [
              "Glucose          0\n",
              "BloodPressure    0\n",
              "SkinThickness    5\n",
              "Insulin          0\n",
              "BMI              0\n",
              "Age              0\n",
              "Outcome          0\n",
              "dtype: int64"
            ]
          },
          "execution_count": 30,
          "metadata": {},
          "output_type": "execute_result"
        }
      ],
      "source": [
        "dataset.isnull().sum()"
      ]
    },
    {
      "cell_type": "code",
      "execution_count": 31,
      "metadata": {
        "id": "1tKy9ziiLzzk"
      },
      "outputs": [],
      "source": [
        "from sklearn.impute import SimpleImputer\n",
        "\n",
        "# strategy: mean, medien, most frequent\n",
        "imputer = SimpleImputer(fill_value=np.nan, strategy='most_frequent')\n",
        "X = imputer.fit_transform(dataset)"
      ]
    },
    {
      "cell_type": "markdown",
      "metadata": {
        "id": "66OJHwbvMmRv"
      },
      "source": [
        "## Split the dataset into training set and test set"
      ]
    },
    {
      "cell_type": "code",
      "execution_count": 32,
      "metadata": {
        "id": "I-sw1oZwGGGD"
      },
      "outputs": [],
      "source": [
        "# X -> features\n",
        "X = np.delete(X, -1, axis=1)\n",
        "# Y -> label\n",
        "Y = dataset.Outcome"
      ]
    },
    {
      "cell_type": "code",
      "execution_count": 33,
      "metadata": {
        "id": "ezB61rE8MngN"
      },
      "outputs": [],
      "source": [
        "from sklearn.model_selection import train_test_split\n",
        "\n",
        "# Split into training and test set\n",
        "X_train, X_test, Y_train, Y_test = train_test_split(X, Y, train_size=0.7, random_state=42)"
      ]
    },
    {
      "cell_type": "markdown",
      "metadata": {
        "id": "Ve76nAN2Henc"
      },
      "source": [
        "## Classification Algorithms (KNN, Naïve Bayes)"
      ]
    },
    {
      "cell_type": "markdown",
      "metadata": {
        "id": "_CBmOczRMuT1"
      },
      "source": [
        "### KNN Algorithm"
      ]
    },
    {
      "cell_type": "code",
      "execution_count": 34,
      "metadata": {
        "id": "4SoYGRt_Lzqh"
      },
      "outputs": [],
      "source": [
        "from sklearn.neighbors import KNeighborsClassifier\n",
        "\n",
        "knn = KNeighborsClassifier(n_neighbors=5)\n",
        "knn.fit(X_train, Y_train)\n",
        " \n",
        "# Predict on dataset which model has not seen before\n",
        "knn_predict = knn.predict(X_test)"
      ]
    },
    {
      "cell_type": "markdown",
      "metadata": {
        "id": "zYEsj7HGNGcL"
      },
      "source": [
        "### Naïve Bayes Algorithm"
      ]
    },
    {
      "cell_type": "code",
      "execution_count": 35,
      "metadata": {
        "id": "gYuyBc0HLzDx"
      },
      "outputs": [],
      "source": [
        "from sklearn.naive_bayes import GaussianNB\n",
        "nb = GaussianNB()\n",
        "nb.fit(X_train, Y_train)\n",
        "nb_predict  =  nb.predict(X_test)"
      ]
    },
    {
      "cell_type": "markdown",
      "metadata": {
        "id": "3B9qxI-pJvcI"
      },
      "source": [
        "## Compare the behavior of KNN and Naïve Bayes"
      ]
    },
    {
      "cell_type": "code",
      "execution_count": 36,
      "metadata": {
        "colab": {
          "base_uri": "https://localhost:8080/"
        },
        "id": "H682rjb9my0Y",
        "outputId": "39d86633-289b-4b57-8167-fcb21ca1dbc6"
      },
      "outputs": [
        {
          "name": "stdout",
          "output_type": "stream",
          "text": [
            "accuracy score: 0.69 \n",
            "precision score: 0.55 \n",
            "recall score: 0.55 \n",
            "F1 score: 0.55 \n"
          ]
        }
      ],
      "source": [
        "from sklearn.metrics import precision_score, recall_score, f1_score, accuracy_score\n",
        "\n",
        "# Calculate the accuracy of KNN\n",
        "print(\"accuracy score: %.2f \" % accuracy_score(Y_test, knn_predict))\n",
        "print(\"precision score: %.2f \" % precision_score(Y_test, knn_predict))\n",
        "print(\"recall score: %.2f \" % recall_score(Y_test, knn_predict))\n",
        "print(\"F1 score: %.2f \" % f1_score(Y_test, knn_predict))"
      ]
    },
    {
      "cell_type": "code",
      "execution_count": 37,
      "metadata": {
        "colab": {
          "base_uri": "https://localhost:8080/"
        },
        "id": "GXbT5MZCnE9h",
        "outputId": "9b434af9-33e0-467b-b230-c68788813ac7"
      },
      "outputs": [
        {
          "name": "stdout",
          "output_type": "stream",
          "text": [
            "accuracy score: 0.72 \n",
            "precision score: 0.60 \n",
            "recall score: 0.59 \n",
            "F1 score: 0.59 \n"
          ]
        }
      ],
      "source": [
        "# Calculate the accuracy of Naive Bayes\n",
        "print(\"accuracy score: %.2f \" % accuracy_score(Y_test, nb_predict))\n",
        "print(\"precision score: %.2f \" % precision_score(Y_test, nb_predict))\n",
        "print(\"recall score: %.2f \" % recall_score(Y_test, nb_predict))\n",
        "print(\"F1 score: %.2f \" % f1_score(Y_test, nb_predict))"
      ]
    }
  ],
  "metadata": {
    "colab": {
      "collapsed_sections": [
        "jUT15u-HLOpi",
        "66OJHwbvMmRv",
        "Ve76nAN2Henc",
        "_CBmOczRMuT1",
        "zYEsj7HGNGcL",
        "3B9qxI-pJvcI"
      ],
      "name": "Data Mining Practical",
      "provenance": []
    },
    "kernelspec": {
      "display_name": "Python 3",
      "name": "python3"
    },
    "language_info": {
      "codemirror_mode": {
        "name": "ipython",
        "version": 3
      },
      "file_extension": ".py",
      "mimetype": "text/x-python",
      "name": "python",
      "nbconvert_exporter": "python",
      "pygments_lexer": "ipython3",
      "version": "3.8.10"
    }
  },
  "nbformat": 4,
  "nbformat_minor": 0
}
